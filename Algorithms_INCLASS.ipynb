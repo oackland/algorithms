{
 "cells": [
  {
   "cell_type": "markdown",
   "metadata": {
    "id": "f6Aaf1nqJ1G6"
   },
   "source": [
    "# Algorithms & Binary Search"
   ]
  },
  {
   "cell_type": "markdown",
   "metadata": {
    "id": "Q8O66izsJ1HB"
   },
   "source": [
    "\n",
    "## Tasks Today:\n",
    "\n",
    "1) <b>In-Place Algorithms</b> <br>\n",
    " &nbsp;&nbsp;&nbsp;&nbsp; a) Syntax <br>\n",
    " &nbsp;&nbsp;&nbsp;&nbsp; a) Out of Place Algorithm <br>\n",
    " &nbsp;&nbsp;&nbsp;&nbsp; b) In-Class Exercise #1 <br>\n",
    "2) <b>Two Pointers</b> <br>\n",
    "3) <b>Linked Lists</b> <br>\n",
    "4) <b>Merge Sort</b> <br>\n",
    " &nbsp;&nbsp;&nbsp;&nbsp; a) Video on Algorithms <br>\n",
    " &nbsp;&nbsp;&nbsp;&nbsp; b) How it Works <br>\n",
    "5) <b>Exercises</b> <br>\n",
    " &nbsp;&nbsp;&nbsp;&nbsp; a) Exercise #1 - Reverse a List in Place Using an In-Place Algorithm <br>\n",
    " &nbsp;&nbsp;&nbsp;&nbsp; b) Exercise #2 - Find Distinct Words <br>\n",
    " &nbsp;&nbsp;&nbsp;&nbsp; c) Exercise #3 - Write a program to implement a Linear Search Algorithm. <br>"
   ]
  },
  {
   "cell_type": "markdown",
   "metadata": {
    "id": "boewMr2aJ1HD"
   },
   "source": [
    "## In-Place Algorithms"
   ]
  },
  {
   "cell_type": "markdown",
   "metadata": {
    "id": "N0hzD3j5J1HD"
   },
   "source": [
    "#### Syntax"
   ]
  },
  {
   "cell_type": "code",
   "execution_count": 2,
   "metadata": {
    "colab": {
     "base_uri": "https://localhost:8080/"
    },
    "id": "aQzJjB_eJ1HE",
    "outputId": "9f25d371-e1f9-4fa0-ba37-1f887bb484dc",
    "ExecuteTime": {
     "end_time": "2023-08-31T04:21:01.774418200Z",
     "start_time": "2023-08-31T04:21:01.687173700Z"
    }
   },
   "outputs": [
    {
     "name": "stdout",
     "output_type": "stream",
     "text": [
      "2542533996864\n",
      "[3, 2, 1]\n",
      "2542533996864\n"
     ]
    }
   ],
   "source": [
    "def swap(alist, x, y, z):\n",
    "    alist[x], alist[y], alist[z] = alist[z], alist[y], alist[x]\n",
    "\n",
    "\n",
    "this_list = [1,2,3]\n",
    "\n",
    "print(id(this_list))\n",
    "swap(this_list, 0,1,2)\n",
    "\n",
    "print(this_list)\n",
    "print(id(this_list))"
   ]
  },
  {
   "cell_type": "markdown",
   "metadata": {
    "id": "xQBPsoiSJ1HJ"
   },
   "source": [
    "#### Out of Place Algorithm"
   ]
  },
  {
   "cell_type": "code",
   "execution_count": 3,
   "metadata": {
    "id": "9IK5s0EuJ1HK",
    "outputId": "63312e09-d025-457c-d140-6f81e934f0ba",
    "ExecuteTime": {
     "end_time": "2023-08-31T04:21:01.775419900Z",
     "start_time": "2023-08-31T04:21:01.694172500Z"
    }
   },
   "outputs": [
    {
     "name": "stdout",
     "output_type": "stream",
     "text": [
      "2542534448640\n",
      "[3, 2, 1]\n",
      "2542533984896\n"
     ]
    }
   ],
   "source": [
    "\n",
    "def out_swap(alist):\n",
    "    output = []\n",
    "    for number in alist[::-1]:\n",
    "        output.append(number)\n",
    "\n",
    "    return output\n",
    "\n",
    "this_list = [1,2,3]\n",
    "\n",
    "print(id(this_list))\n",
    "this_list = out_swap(this_list)\n",
    "\n",
    "print(this_list)\n",
    "print(id(this_list))"
   ]
  },
  {
   "cell_type": "markdown",
   "metadata": {
    "id": "j1AjUADsJ1HO"
   },
   "source": [
    "#### In-Class Exercise #1 <br>\n",
    "<p>Write a function that takes in four arguments (list, index1, index2, index3), and swaps those three positions in the list passed in.</p>"
   ]
  },
  {
   "cell_type": "code",
   "execution_count": 4,
   "metadata": {
    "colab": {
     "base_uri": "https://localhost:8080/"
    },
    "id": "HrJTODUNJ1HO",
    "outputId": "66776618-7c88-425c-9d78-a23b3be7fea4",
    "ExecuteTime": {
     "end_time": "2023-08-31T04:21:01.842417Z",
     "start_time": "2023-08-31T04:21:01.699808900Z"
    }
   },
   "outputs": [
    {
     "name": "stdout",
     "output_type": "stream",
     "text": [
      "2542533994432\n",
      "[4, 3, 10, 8, 4, 2, 6]\n",
      "2542533994432\n"
     ]
    }
   ],
   "source": [
    "l_1 = [10, 4, 3, 8, 4, 2, 6]\n",
    "\n",
    "def swaps(_list, index1, index2, index3):\n",
    "  _list[index1], _list[index2], _list[index3] = _list[index2], _list[index3], _list[index1]\n",
    "\n",
    "swaps(l_1, 0,1,2)\n",
    "print(id(l_1))\n",
    "print(l_1)\n",
    "print(id(l_1))"
   ]
  },
  {
   "cell_type": "markdown",
   "metadata": {
    "id": "OAdcoqhYJ1HP"
   },
   "source": [
    "## Two Pointers"
   ]
  },
  {
   "cell_type": "markdown",
   "metadata": {
    "id": "nQT8_npBJ1HQ"
   },
   "source": [
    "#### Syntax"
   ]
  },
  {
   "cell_type": "code",
   "execution_count": 5,
   "metadata": {
    "id": "XUHaUbxmJ1HQ",
    "outputId": "f2c6212f-e79b-4fa8-e50e-e8cdedb3f5cd",
    "ExecuteTime": {
     "end_time": "2023-08-31T04:21:01.842417Z",
     "start_time": "2023-08-31T04:21:01.707929800Z"
    }
   },
   "outputs": [
    {
     "name": "stdout",
     "output_type": "stream",
     "text": [
      "None\n",
      "[10, 9, 8, 7, 6, 5, 4, 3, 2, 1]\n"
     ]
    }
   ],
   "source": [
    "this_list = [1,2,3,4,5,6,7,8,9,10]\n",
    "\n",
    "def twopointerswap(alist):\n",
    "    left = 0\n",
    "    right = len(alist) - 1\n",
    "    while left <= right:\n",
    "        alist[left], alist[right] = alist[right], alist[left]\n",
    "        left += 1\n",
    "        right -= 1\n",
    "\n",
    "print(twopointerswap(this_list))\n",
    "print(this_list)"
   ]
  },
  {
   "cell_type": "markdown",
   "metadata": {
    "id": "-y0IHAnBJ1HR"
   },
   "source": [
    "#### Video of Algorithms <br>\n",
    "<p>Watch the video about algorithms.</p>\n",
    "\n",
    "https://www.youtube.com/watch?v=Q9HjeFD62Uk\n",
    "\n",
    "https://www.youtube.com/watch?v=kPRA0W1kECg\n",
    "\n",
    "https://www.youtube.com/watch?v=ZZuD6iUe3Pc"
   ]
  },
  {
   "cell_type": "markdown",
   "metadata": {
    "id": "zEJWygJ1J1HS"
   },
   "source": [
    "# Sorting Algorithms"
   ]
  },
  {
   "cell_type": "markdown",
   "metadata": {
    "id": "tkMudgJmJ1HS"
   },
   "source": [
    "#### Bubble Sort\n",
    "\n",
    "Worst Case: O(n^2) Time - O(1) Space"
   ]
  },
  {
   "cell_type": "code",
   "execution_count": 6,
   "metadata": {
    "id": "QfJuRzaAJ1HT",
    "outputId": "0be91cd0-6658-463c-8e9b-15faa61f8a3b",
    "ExecuteTime": {
     "end_time": "2023-08-31T04:21:01.845419300Z",
     "start_time": "2023-08-31T04:21:01.720893800Z"
    }
   },
   "outputs": [
    {
     "name": "stdout",
     "output_type": "stream",
     "text": [
      "1\n",
      "[8, 4, 6, 2, 5, 9, 2]\n",
      "[4, 8, 6, 2, 5, 9, 2]\n",
      "[4, 6, 8, 2, 5, 9, 2]\n",
      "[4, 6, 2, 8, 5, 9, 2]\n",
      "[4, 6, 2, 5, 8, 9, 2]\n",
      "[4, 6, 2, 5, 8, 9, 2]\n",
      "[4, 6, 2, 5, 8, 2, 9]\n",
      "2\n",
      "[4, 6, 2, 5, 8, 2, 9]\n",
      "[4, 6, 2, 5, 8, 2, 9]\n",
      "[4, 2, 6, 5, 8, 2, 9]\n",
      "[4, 2, 5, 6, 8, 2, 9]\n",
      "[4, 2, 5, 6, 8, 2, 9]\n",
      "[4, 2, 5, 6, 2, 8, 9]\n",
      "[4, 2, 5, 6, 2, 8, 9]\n",
      "3\n",
      "[4, 2, 5, 6, 2, 8, 9]\n",
      "[2, 4, 5, 6, 2, 8, 9]\n",
      "[2, 4, 5, 6, 2, 8, 9]\n",
      "[2, 4, 5, 6, 2, 8, 9]\n",
      "[2, 4, 5, 2, 6, 8, 9]\n",
      "[2, 4, 5, 2, 6, 8, 9]\n",
      "[2, 4, 5, 2, 6, 8, 9]\n",
      "4\n",
      "[2, 4, 5, 2, 6, 8, 9]\n",
      "[2, 4, 5, 2, 6, 8, 9]\n",
      "[2, 4, 5, 2, 6, 8, 9]\n",
      "[2, 4, 2, 5, 6, 8, 9]\n",
      "[2, 4, 2, 5, 6, 8, 9]\n",
      "[2, 4, 2, 5, 6, 8, 9]\n",
      "[2, 4, 2, 5, 6, 8, 9]\n",
      "5\n",
      "[2, 4, 2, 5, 6, 8, 9]\n",
      "[2, 4, 2, 5, 6, 8, 9]\n",
      "[2, 2, 4, 5, 6, 8, 9]\n",
      "[2, 2, 4, 5, 6, 8, 9]\n",
      "[2, 2, 4, 5, 6, 8, 9]\n",
      "[2, 2, 4, 5, 6, 8, 9]\n",
      "[2, 2, 4, 5, 6, 8, 9]\n",
      "6\n",
      "[2, 2, 4, 5, 6, 8, 9]\n",
      "[2, 2, 4, 5, 6, 8, 9]\n",
      "[2, 2, 4, 5, 6, 8, 9]\n",
      "[2, 2, 4, 5, 6, 8, 9]\n",
      "[2, 2, 4, 5, 6, 8, 9]\n",
      "[2, 2, 4, 5, 6, 8, 9]\n",
      "[2, 2, 4, 5, 6, 8, 9]\n",
      "[2, 2, 4, 5, 6, 8, 9]\n"
     ]
    }
   ],
   "source": [
    "alist = [8,4,6,2,5,9,2]\n",
    "\n",
    "def swap(alist, x, y):\n",
    "    alist[x], alist[y] = alist[y], alist[x]\n",
    "\n",
    "\n",
    "def bubble(alist):\n",
    "    sorted = False\n",
    "\n",
    "    p = 0\n",
    "    while not sorted:\n",
    "        p+=1\n",
    "        print(p)\n",
    "        sorted = True\n",
    "        for index in range(len(alist)-1):\n",
    "            print(alist)\n",
    "            if alist[index] > alist[index+1]:\n",
    "                swap(alist, index, index+1)\n",
    "                sorted = False\n",
    "        print(alist)\n",
    "\n",
    "    # return alist\n",
    "\n",
    "bubble(alist)\n",
    "\n",
    "print(alist)\n",
    "\n"
   ]
  },
  {
   "cell_type": "markdown",
   "metadata": {
    "id": "KN1JsZsXJ1HT"
   },
   "source": [
    "##### Insertion Sort\n",
    "\n",
    "Worst Case: O(n^2) time - O(1)space"
   ]
  },
  {
   "cell_type": "code",
   "execution_count": 7,
   "metadata": {
    "id": "9thgxx3KJ1HU",
    "outputId": "e73ece3f-ec40-4dfa-cbb3-a37ae1e214b4",
    "ExecuteTime": {
     "end_time": "2023-08-31T04:21:01.847416800Z",
     "start_time": "2023-08-31T04:21:01.728411600Z"
    }
   },
   "outputs": [
    {
     "name": "stdout",
     "output_type": "stream",
     "text": [
      "[8]\n",
      "4\n",
      "[8, 4]\n",
      "[4, 8]\n",
      "6\n",
      "[4, 8, 6]\n",
      "[4, 6, 8]\n",
      "2\n",
      "[4, 6, 8, 2]\n",
      "[4, 6, 2, 8]\n",
      "[4, 2, 6, 8]\n",
      "[2, 4, 6, 8]\n",
      "5\n",
      "[2, 4, 6, 8, 5]\n",
      "[2, 4, 6, 5, 8]\n",
      "[2, 4, 5, 6, 8]\n",
      "9\n",
      "[2, 4, 5, 6, 8, 9]\n",
      "2\n",
      "[2, 4, 5, 6, 8, 9, 2]\n",
      "[2, 4, 5, 6, 8, 2, 9]\n",
      "[2, 4, 5, 6, 2, 8, 9]\n",
      "[2, 4, 5, 2, 6, 8, 9]\n",
      "[2, 4, 2, 5, 6, 8, 9]\n",
      "None\n",
      "[2, 2, 4, 5, 6, 8, 9]\n"
     ]
    }
   ],
   "source": [
    "alist = [8,4,6,2,5,9,2]\n",
    "\n",
    "def swap(alist, x, y):\n",
    "    alist[x], alist[y] = alist[y], alist[x]\n",
    "\n",
    "def insertion(alist):\n",
    "    for i in range(1, len(alist)):\n",
    "        p = i\n",
    "        print(alist[:i])\n",
    "        print(alist[i])\n",
    "        while i > 0 and alist[i] < alist[i-1]:\n",
    "            print(alist[:p+1])\n",
    "            swap(alist, i, i-1)\n",
    "            i -= 1\n",
    "\n",
    "\n",
    "print(insertion(alist))\n",
    "print(alist)\n"
   ]
  },
  {
   "cell_type": "markdown",
   "metadata": {
    "id": "refTj4CYJ1HV"
   },
   "source": [
    "## Merge Sort"
   ]
  },
  {
   "cell_type": "markdown",
   "metadata": {
    "id": "Z_GfJVX1J1HW"
   },
   "source": [
    "#### How it Works"
   ]
  },
  {
   "cell_type": "code",
   "execution_count": 8,
   "metadata": {
    "id": "1l4GwM-HJ1HW",
    "outputId": "b5dacdff-f6b9-433e-e0c4-2cda438daedf",
    "ExecuteTime": {
     "end_time": "2023-08-31T04:21:01.859426800Z",
     "start_time": "2023-08-31T04:21:01.733478800Z"
    }
   },
   "outputs": [
    {
     "name": "stdout",
     "output_type": "stream",
     "text": [
      "SPLITTING: [8, 4, 6, 2, 5, 9, 2]\n",
      "Left half: [8, 4, 6], right half: [2, 5, 9, 2]\n",
      "SPLITTING: [8, 4, 6]\n",
      "Left half: [8], right half: [4, 6]\n",
      "SPLITTING: [4, 6]\n",
      "Left half: [4], right half: [6]\n",
      "merging left: [4], right: [6]\n",
      "Merged [4, 6]\n",
      "merging left: [8], right: [4, 6]\n",
      "Merged [4, 6, 8]\n",
      "SPLITTING: [2, 5, 9, 2]\n",
      "Left half: [2, 5], right half: [9, 2]\n",
      "SPLITTING: [2, 5]\n",
      "Left half: [2], right half: [5]\n",
      "merging left: [2], right: [5]\n",
      "Merged [2, 5]\n",
      "SPLITTING: [9, 2]\n",
      "Left half: [9], right half: [2]\n",
      "merging left: [9], right: [2]\n",
      "Merged [2, 9]\n",
      "merging left: [2, 5], right: [2, 9]\n",
      "Merged [2, 2, 5, 9]\n",
      "merging left: [4, 6, 8], right: [2, 2, 5, 9]\n",
      "Merged [2, 2, 4, 5, 6, 8, 9]\n",
      "[2, 2, 4, 5, 6, 8, 9]\n"
     ]
    }
   ],
   "source": [
    "alist = [8,4,6,2,5,9,2]\n",
    "\n",
    "def mergeSort(alist):\n",
    "\n",
    "    if len(alist) > 1:\n",
    "        middle = len(alist)// 2\n",
    "        left_half = alist[:middle]\n",
    "        right_half = alist[middle:]\n",
    "        print(f'SPLITTING: {alist}')\n",
    "        print(f'Left half: {left_half}, right half: {right_half}')\n",
    "\n",
    "        mergeSort(left_half)\n",
    "        mergeSort(right_half)\n",
    "\n",
    "\n",
    "        print(f'merging left: {left_half}, right: {right_half}')\n",
    "        #index\n",
    "        i = 0 #pointer for the left half\n",
    "        j = 0 # pointer for the right half\n",
    "        k = 0 # pointer main list being merged into\n",
    "\n",
    "        #compare the left anf right half until one of them is empty\n",
    "\n",
    "        while i < len(left_half) and j < len(right_half):\n",
    "            if left_half[i] < right_half[j]:\n",
    "                alist[k] = left_half[i]\n",
    "                i += 1\n",
    "            else:\n",
    "                alist[k] = right_half[j]\n",
    "                j += 1\n",
    "            k+=1\n",
    "\n",
    "\n",
    "        #once a list has been emptied\n",
    "        #fill in main list with remain list\n",
    "\n",
    "        while i < len(left_half):\n",
    "            alist[k] = left_half[i]\n",
    "            i+=1\n",
    "            k+=1\n",
    "\n",
    "        while j < len(right_half):\n",
    "            alist[k] = right_half[j]\n",
    "            j+= 1\n",
    "            k+= 1\n",
    "        print(f'Merged {alist}')\n",
    "\n",
    "        return alist\n",
    "\n",
    "\n",
    "print(mergeSort(alist))\n",
    "\n",
    "\n",
    "\n"
   ]
  },
  {
   "cell_type": "markdown",
   "metadata": {
    "id": "aDdKHlKrJ1HX"
   },
   "source": [
    "# Binary Search\n",
    "\n",
    "The Binary Search algorithm works by finding the number in the middle of a given array and comparing it to the target. Given that the array is sorted\n",
    "\n",
    "* The worst case run time for this algorithm is `O(log(n))`"
   ]
  },
  {
   "cell_type": "code",
   "execution_count": 9,
   "metadata": {
    "id": "g2_WApPJJ1HZ",
    "outputId": "98ad99c6-08b5-4c4f-d706-344760b8079f",
    "ExecuteTime": {
     "end_time": "2023-08-31T04:21:01.861424700Z",
     "start_time": "2023-08-31T04:21:01.747151600Z"
    }
   },
   "outputs": [
    {
     "data": {
      "text/plain": "'Target not in the list'"
     },
     "execution_count": 9,
     "metadata": {},
     "output_type": "execute_result"
    }
   ],
   "source": [
    "def binarySearch(alist, target):\n",
    "    left = 0\n",
    "    right = len(alist) -1\n",
    "    while left <= right:\n",
    "        middle = (left+right)//2\n",
    "        potential = alist[middle]\n",
    "        if target == potential:\n",
    "            return f'WINNER WINNER CHICKEN DINNER for {target} at the {middle} index'\n",
    "        elif target < potential:\n",
    "            right = middle -1\n",
    "        elif target > potential:\n",
    "            left = middle + 1\n",
    "    return f'Target not in the list'\n",
    "\n",
    "binarySearch([1,5,7,23,29,3,8,58], 400)"
   ]
  },
  {
   "cell_type": "markdown",
   "metadata": {
    "id": "KSUeJXGRJ1Ha"
   },
   "source": [
    "# Exercises"
   ]
  },
  {
   "cell_type": "markdown",
   "metadata": {
    "id": "rzJsph5EJ1Ha"
   },
   "source": [
    "### Exercise #1 <br>\n",
    "<p>Reverse the list below in-place using an in-place algorithm.<br>For extra credit: Reverse the strings at the same time.</p>"
   ]
  },
  {
   "cell_type": "code",
   "execution_count": 10,
   "metadata": {
    "colab": {
     "base_uri": "https://localhost:8080/"
    },
    "id": "poKixXUvJ1Hi",
    "outputId": "65911f33-4ae2-4e43-f8cf-34bf188e77dc",
    "ExecuteTime": {
     "end_time": "2023-08-31T04:21:01.868534400Z",
     "start_time": "2023-08-31T04:21:01.756149800Z"
    }
   },
   "outputs": [
    {
     "name": "stdout",
     "output_type": "stream",
     "text": [
      "['.', 'sentence', 'a', 'is', 'this']\n"
     ]
    }
   ],
   "source": [
    "words = ['this' , 'is', 'a', 'sentence', '.']\n",
    "\n",
    "def reverse_list(words):\n",
    "  words[0] , words[1], words[2], words[3], words[4] = words[4],words[3],words[2],words[1],words[0]\n",
    "\n",
    "reverse_list(words)\n",
    "print(words)"
   ]
  },
  {
   "cell_type": "markdown",
   "metadata": {
    "id": "GjayTWm3J1Hi"
   },
   "source": [
    "### Exercise #2 <br>\n",
    "<p>Create a function that counts how many distinct words are in the string below, then outputs a dictionary with the words as the key and the value as the amount of times that word appears in the string.<br>Should output:<br>{'a': 5,<br>\n",
    " 'abstract': 1,<br>\n",
    " 'an': 3,<br>\n",
    " 'array': 2, ... etc...</p>"
   ]
  },
  {
   "cell_type": "code",
   "execution_count": 11,
   "metadata": {
    "colab": {
     "base_uri": "https://localhost:8080/"
    },
    "id": "_Xyiw9xLJ1Hj",
    "outputId": "f6da39fc-d4ee-4411-da24-a99644f1745b",
    "ExecuteTime": {
     "end_time": "2023-08-31T04:21:01.871533200Z",
     "start_time": "2023-08-31T04:21:01.762751500Z"
    }
   },
   "outputs": [
    {
     "name": "stdout",
     "output_type": "stream",
     "text": [
      "{'In': 1, 'computing': 1, 'a': 4, 'hash': 4, 'table': 2, 'map': 2, 'is': 1, 'data': 2, 'structure': 2, 'which': 2, 'implements': 1, 'an': 3, 'associative': 1, 'array': 2, 'abstract': 1, 'type': 1, 'that': 1, 'can': 2, 'keys': 1, 'to': 2, 'values.': 1, 'A': 1, 'uses': 1, 'function': 1, 'compute': 1, 'index': 1, 'into': 1, 'of': 1, 'buckets': 1, 'or': 1, 'slots': 1, 'from': 1, 'the': 1, 'desired': 1, 'value': 1, 'be': 1, 'found': 1}\n"
     ]
    }
   ],
   "source": [
    "a_text = 'In computing, a hash table hash map is a data structure which implements an associative array abstract data type, a structure that can map keys to values. A hash table uses a hash function to compute an index into an array of buckets or slots from which the desired value can be found'\n",
    "\n",
    "#punctuation and casing should not interfer with counts\n",
    "\n",
    "def count_words_to_dict(word):\n",
    "  comma_split =  word.split(\",\")\n",
    "  my_dict = {}\n",
    "  for single_sentence in comma_split:\n",
    "    for token in single_sentence.split(\" \"):\n",
    "      if token.strip() != \"\":\n",
    "        if my_dict.get(token) != None:\n",
    "          my_dict[token] += 1\n",
    "        else :\n",
    "          my_dict[token] = 1\n",
    "  return my_dict\n",
    "\n",
    "print(count_words_to_dict(a_text))\n"
   ]
  },
  {
   "cell_type": "markdown",
   "metadata": {
    "id": "8A1Aadg1J1Hj"
   },
   "source": [
    "## Exercise #3\n",
    "\n",
    "Write a program to implement a Linear Search Algorithm. Also in a comment, write the Time Complexity of the following algorithm.\n",
    "\n",
    "#### Hint: Linear Searching will require searching a list for a given number."
   ]
  },
  {
   "cell_type": "code",
   "execution_count": 12,
   "metadata": {
    "colab": {
     "base_uri": "https://localhost:8080/"
    },
    "id": "0orPmhhPJ1Hj",
    "outputId": "310c898c-be4e-4118-e848-29ba4d535a04",
    "ExecuteTime": {
     "end_time": "2023-08-31T04:21:01.881532700Z",
     "start_time": "2023-08-31T04:21:01.771412200Z"
    }
   },
   "outputs": [
    {
     "name": "stdout",
     "output_type": "stream",
     "text": [
      "{'search_item': 3, 'position': 2}\n"
     ]
    }
   ],
   "source": [
    "# take in a list and a target and return position of the target!\n",
    "\n",
    "# Worst Case: O(n^2) Time - O(1) Space\n",
    "def search(my_list, value):\n",
    "  for i, single in enumerate(my_list):\n",
    "    if value == single:\n",
    "      return {\"search_item\" : value , \"position\" : i}\n",
    "  return {\"search_item\" : value , \"position\" : None}\n",
    "\n",
    "print(search([1,2,3,4], 3))\n"
   ]
  }
 ],
 "metadata": {
  "kernelspec": {
   "display_name": "Python 3.10.8 64-bit (microsoft store)",
   "language": "python",
   "name": "python3"
  },
  "language_info": {
   "codemirror_mode": {
    "name": "ipython",
    "version": 3
   },
   "file_extension": ".py",
   "mimetype": "text/x-python",
   "name": "python",
   "nbconvert_exporter": "python",
   "pygments_lexer": "ipython3",
   "version": "3.9.13"
  },
  "vscode": {
   "interpreter": {
    "hash": "aa82987a71ca0339a52998cd22613b0c002bda8349fa32a0cb67ceec3936a2bf"
   }
  },
  "colab": {
   "provenance": []
  }
 },
 "nbformat": 4,
 "nbformat_minor": 0
}
